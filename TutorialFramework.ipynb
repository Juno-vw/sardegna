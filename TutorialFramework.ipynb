{
 "cells": [
  {
   "cell_type": "markdown",
   "metadata": {},
   "source": [
    "## SArDeGnA (SpAtial Data Grid frAmework)\n",
    "- SArDeGnA is a lightweight framework to manage spatial data in Python using a grid approach.\n",
    "- This framework can help you to manage Point of Interests (i.e. pubs, restaurant) or points related to trajectories.\n"
   ]
  },
  {
   "cell_type": "markdown",
   "metadata": {},
   "source": [
    "- In this notebook a I will explain how to use the spatial data framework.\n"
   ]
  },
  {
   "cell_type": "markdown",
   "metadata": {},
   "source": [
    "## How to create a Grid\n",
    "- A grid is made by cell.\n",
    "- A grid is defined by specifying the coordinated (lat and lon) of the center and the radius  fo the grid and the radius of the cells.\n"
   ]
  },
  {
   "cell_type": "code",
   "execution_count": 1,
   "metadata": {},
   "outputs": [],
   "source": [
    "\n",
    "from framework.grid import Grid\n",
    "\n",
    "lng_center =  -0.06069 #this is defined in http://spatialreference.org/ref/epsg/wgs-84/\n",
    "lat_center = 51.5437 # this is defined in http://spatialreference.org/ref/epsg/wgs-84/\n",
    "radius_center = 1000 # this is defined in meter\n",
    "radius_cell = 100 # this is defined in meter\n",
    "\n",
    "grid = Grid()\n",
    "grid.create_grid([lng_center, lat_center, radius_center], radius_cell)\n",
    "# save the grid as txt file\n",
    "grid.save_grid_as_txtfile('data/grid.txt')\n",
    "# save information about indexes of the grid\n",
    "grid.save_mapping_uni_bi_index('data/grid_as_uni_bi_index.txt')\n",
    "# save information about indexe of the grid\n",
    "grid.save_mapping_cell_index_lng_lat('data/grid_as_cell_index_lng_lat.txt')\n",
    "#save grid as kml to use it in Google Earth\n",
    "grid.save_grid_as_kmlfile('data/grid.kml')"
   ]
  },
  {
   "cell_type": "markdown",
   "metadata": {},
   "source": [
    "In the file grid.txt, we have the following content (just some initial rows):\n",
    "    * -0.0606900000@51.5437000000@1000@100\n",
    "    * -0.0696643503@51.5381108271@0@0@0\n",
    "    * -0.0678677197@51.5381108271@1@0@1\n",
    "    * -0.0660710891@51.5381108271@2@0@2\n",
    "    * -0.0642744586@51.5381108271@3@0@3\n",
    "    * -0.0624778280@51.5381108271@4@0@4\n",
    "\n",
    "- The first and second columns are the coordinate of the center (lng, lat) of the cells, the third is radius of the grid and the forth is the radius of the cell. \n",
    "- Then, for the other columns we have  the absolute index of the cell (named as unary index), and the relative index in terms of row and column of the grid (named as binary index).\n"
   ]
  },
  {
   "cell_type": "markdown",
   "metadata": {},
   "source": [
    "In the case of grid_as_uni_bi_index.txt, we have the following content (just some initial rows):\n",
    "\n",
    "    * 0:-0.0696643503@51.5381108271\n",
    "    * 1:-0.0678677197@51.5381108271\n",
    "    * 2:-0.0660710891@51.5381108271\n",
    "    * 3:-0.0642744586@51.5381108271\n",
    "    * 4:-0.0624778280@51.5381108271\n",
    "    * 5:-0.0606811974@51.5381108271\n",
    "    * 6:-0.0588845669@51.5381108271\n",
    "    * 7:-0.0570879363@51.5381108271\n",
    "\n",
    "- The first column is the absolute index of the cell an then you have the lng and lat of the center of the cell"
   ]
  },
  {
   "cell_type": "markdown",
   "metadata": {},
   "source": [
    "In the case of grid_as_cell_index_lng_lat.txt, we have the following content (just some initial rows):\n",
    "\n",
    "    * 0:0;0\n",
    "    * 1:0;1\n",
    "    * 2:0;2\n",
    "    * 3:0;3\n",
    "    * 4:0;4\n",
    "    * 5:0;5\n",
    "    * 6:0;6\n",
    "\n",
    "The first column is the unary index and then you have the binary index."
   ]
  },
  {
   "cell_type": "code",
   "execution_count": 2,
   "metadata": {},
   "outputs": [],
   "source": [
    "#Example of use of The Spatial Reference System 4326\n",
    "from osgeo import ogr, osr\n",
    "spatialReference_4326 = osr.SpatialReference()\n",
    "spatialReference_4326.ImportFromEPSGA(4326)\n",
    "point = ogr.Geometry(ogr.wkbPoint)\n",
    "point.AssignSpatialReference(spatialReference_4326)\n",
    "point.AddPoint(-0.0696643503,51.5381108271)"
   ]
  },
  {
   "cell_type": "code",
   "execution_count": 3,
   "metadata": {},
   "outputs": [
    {
     "name": "stdout",
     "output_type": "stream",
     "text": [
      "This is the Lon -0.0696643503\n",
      "This is the Lat 51.5381108271\n"
     ]
    }
   ],
   "source": [
    "print('This is the Lon',point.GetX())\n",
    "print('This is the Lat',point.GetY())"
   ]
  },
  {
   "cell_type": "code",
   "execution_count": 4,
   "metadata": {},
   "outputs": [
    {
     "data": {
      "text/plain": [
       "0"
      ]
     },
     "execution_count": 4,
     "metadata": {},
     "output_type": "execute_result"
    }
   ],
   "source": [
    "#Example of use of The Spatial Reference System 3857\n",
    "spatialReference_3857 = osr.SpatialReference()\n",
    "spatialReference_3857.ImportFromEPSG(3857)"
   ]
  },
  {
   "cell_type": "markdown",
   "metadata": {},
   "source": [
    "To get the list of cells, where each element has the coordinate of each corner plus the unary and binary index:"
   ]
  },
  {
   "cell_type": "code",
   "execution_count": 5,
   "metadata": {},
   "outputs": [],
   "source": [
    "l_full = grid.get_list_cell_lng_lat_coord_as_bb_clock_wise()\n",
    "l_center = grid.get_list_cell_lng_lat_center_index()"
   ]
  },
  {
   "cell_type": "code",
   "execution_count": 6,
   "metadata": {},
   "outputs": [
    {
     "name": "stdout",
     "output_type": "stream",
     "text": [
      "[[[(-0.06876603499934933, 51.538669570287446), (-0.06876603499934933, 51.537552076961965), (-0.07056266556758838, 51.537552076961965), (-0.07056266556758838, 51.538669570287446)], 0, [0, 0]], [[(-0.0669694044311103, 51.538669570287446), (-0.0669694044311103, 51.537552076961965), (-0.06876603499934933, 51.537552076961965), (-0.06876603499934933, 51.538669570287446)], 1, [0, 1]], [[(-0.06517277386287125, 51.538669570287446), (-0.06517277386287125, 51.537552076961965), (-0.0669694044311103, 51.537552076961965), (-0.0669694044311103, 51.538669570287446)], 2, [0, 2]], [[(-0.0633761432946322, 51.538669570287446), (-0.0633761432946322, 51.537552076961965), (-0.06517277386287125, 51.537552076961965), (-0.06517277386287125, 51.538669570287446)], 3, [0, 3]]]\n"
     ]
    }
   ],
   "source": [
    "print(l_full[:4])"
   ]
  },
  {
   "cell_type": "markdown",
   "metadata": {},
   "source": [
    "Example of use of GEOJSON"
   ]
  },
  {
   "cell_type": "code",
   "execution_count": 7,
   "metadata": {},
   "outputs": [],
   "source": [
    "from geojson import Feature, Point,FeatureCollection\n",
    "list_geo_features = []\n",
    "for (lng,lat),uni_index,*_ in l_center:\n",
    "    geodata = Point((lng, lat))\n",
    "    list_geo_features.append(Feature(geometry=geodata, id=uni_index, properties=[{'value': 'center_cell'}]))\n",
    "geojson_data =FeatureCollection(list_geo_features)"
   ]
  },
  {
   "cell_type": "markdown",
   "metadata": {},
   "source": [
    "Example of using ipyleaflet"
   ]
  },
  {
   "cell_type": "code",
   "execution_count": 8,
   "metadata": {},
   "outputs": [
    {
     "data": {
      "application/vnd.jupyter.widget-view+json": {
       "model_id": "7248e07310ac43e5b186ff73f3a0b6d7",
       "version_major": 2,
       "version_minor": 0
      },
      "text/plain": [
       "Map(basemap={'url': 'https://{s}.tile.openstreetmap.org/{z}/{x}/{y}.png', 'max_zoom': 19, 'attribution': 'Map …"
      ]
     },
     "metadata": {},
     "output_type": "display_data"
    }
   ],
   "source": [
    "from ipyleaflet import (\n",
    "    Map,\n",
    "    Marker,\n",
    "    TileLayer, ImageOverlay,\n",
    "    Polyline, Polygon, Rectangle, Circle, CircleMarker,\n",
    "    GeoJSON,\n",
    "    DrawControl\n",
    ")\n",
    "from ipyleaflet import *\n",
    "center = [lat_center,lng_center]\n",
    "zoom = 14\n",
    "m = Map(center=center, zoom=zoom)\n",
    "m"
   ]
  },
  {
   "cell_type": "code",
   "execution_count": 9,
   "metadata": {},
   "outputs": [],
   "source": [
    "g=GeoJSON(data=geojson_data)\n",
    "m.add_layer(g)\n"
   ]
  },
  {
   "cell_type": "code",
   "execution_count": 10,
   "metadata": {},
   "outputs": [
    {
     "data": {
      "application/vnd.jupyter.widget-view+json": {
       "model_id": "7248e07310ac43e5b186ff73f3a0b6d7",
       "version_major": 2,
       "version_minor": 0
      },
      "text/plain": [
       "Map(basemap={'url': 'https://{s}.tile.openstreetmap.org/{z}/{x}/{y}.png', 'max_zoom': 19, 'attribution': 'Map …"
      ]
     },
     "metadata": {},
     "output_type": "display_data"
    }
   ],
   "source": [
    "m"
   ]
  },
  {
   "cell_type": "code",
   "execution_count": 11,
   "metadata": {},
   "outputs": [],
   "source": [
    "row_dim,col_dim = grid.get_row_col_dim()\n",
    "grid_list_by_row = [[[] for _ in range(col_dim)] for _ in range(row_dim)]\n",
    "grid_list_by_col = [[[] for _ in range(row_dim)] for _ in range(col_dim)]"
   ]
  },
  {
   "cell_type": "code",
   "execution_count": 12,
   "metadata": {},
   "outputs": [],
   "source": [
    "list_points_sw = []\n",
    "for points,_,bin_index in l_full:\n",
    "    grid_list_by_row[bin_index[0]][bin_index[1]]=points[0]\n",
    "    grid_list_by_col[bin_index[1]][bin_index[0]]=points[0]"
   ]
  },
  {
   "cell_type": "code",
   "execution_count": 13,
   "metadata": {},
   "outputs": [],
   "source": [
    "\n",
    "\n",
    "from geojson import LineString\n",
    "from geojson import Feature, Point,FeatureCollection,LineString\n",
    "list_geo_features_line_by_row = []\n",
    "for index,row in enumerate(grid_list_by_row):\n",
    "    geodata = LineString(row)\n",
    "    list_geo_features_line_by_row.append(Feature(geometry=geodata, id=index))\n",
    "list_geo_features_line_by_col = []\n",
    "for index,col in enumerate(grid_list_by_col):\n",
    "    geodata = LineString(col)\n",
    "    list_geo_features_line_by_col.append(Feature(geometry=geodata, id=index+row_dim))\n",
    "    \n",
    "l_row_col = list_geo_features_line_by_col+list_geo_features_line_by_row \n",
    "geojson_data_grid =FeatureCollection(l_row_col)"
   ]
  },
  {
   "cell_type": "markdown",
   "metadata": {},
   "source": [
    "Example of using Google Maps, but you need \"your key\""
   ]
  },
  {
   "cell_type": "code",
   "execution_count": 14,
   "metadata": {},
   "outputs": [],
   "source": [
    "import gmaps\n",
    "import gmaps.datasets\n",
    "gmaps.configure(api_key=\"your key\")"
   ]
  },
  {
   "cell_type": "code",
   "execution_count": 15,
   "metadata": {},
   "outputs": [
    {
     "data": {
      "application/vnd.jupyter.widget-view+json": {
       "model_id": "47204d6274ce4b7b9edfcc7be5e3dece",
       "version_major": 2,
       "version_minor": 0
      },
      "text/plain": [
       "Figure(layout=FigureLayout(height='420px'))"
      ]
     },
     "metadata": {},
     "output_type": "display_data"
    }
   ],
   "source": [
    "fig = gmaps.figure()\n",
    "layer = gmaps.geojson_layer(geojson_data_grid, fill_color=\"green\", stroke_color=\"green\",fill_opacity=0.8)\n",
    "fig.add_layer(layer)\n",
    "fig"
   ]
  },
  {
   "cell_type": "markdown",
   "metadata": {},
   "source": [
    "In the file geoutils, there are some functions such as \n",
    "    * serialize_list_point_lon_lat_index_as_kml\n",
    "    * serialize_list_point_lon_lat_index_as_line_in_kml\n",
    "That you can use to serialize the file in kml and open the result in [qgis](http://www.qgis.org/en/site/index.html) or [google earth](https://www.google.com/intl/en/earth/) "
   ]
  },
  {
   "cell_type": "code",
   "execution_count": null,
   "metadata": {},
   "outputs": [],
   "source": []
  }
 ],
 "metadata": {
  "anaconda-cloud": {},
  "kernelspec": {
   "display_name": "sardegna",
   "language": "python",
   "name": "sardegna"
  },
  "language_info": {
   "codemirror_mode": {
    "name": "ipython",
    "version": 3
   },
   "file_extension": ".py",
   "mimetype": "text/x-python",
   "name": "python",
   "nbconvert_exporter": "python",
   "pygments_lexer": "ipython3",
   "version": "3.7.2"
  }
 },
 "nbformat": 4,
 "nbformat_minor": 2
}
